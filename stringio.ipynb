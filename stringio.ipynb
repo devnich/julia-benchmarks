{
 "cells": [
  {
   "cell_type": "code",
   "execution_count": null,
   "id": "0f334dbe-3dfa-4e87-bb7b-c3fd2b3e66db",
   "metadata": {},
   "outputs": [],
   "source": [
    "# -------------------------\n",
    "# Setup\n",
    "# -------------------------\n",
    "# using Pkg\n",
    "# Pkg.add(\"DataStructures\")\n",
    "using DataStructures\n",
    "\n",
    "files = [\"pettigrew_letters_ORIGINAL.txt\", \"moby_dick.txt\", \"war_and_peace.txt\"]\n",
    "\n",
    "# -------------------------\n",
    "# Main function\n",
    "# -------------------------\n",
    "function tokenize(infile)\n",
    "    # Get an array of file lines\n",
    "    f = open(join([\"data\", infile] , \"/\"), \"r\")\n",
    "    text = readlines(f)\n",
    "    close(f)\n",
    "\n",
    "    # Segment tokens, do cleanup, and count them\n",
    "    tokens = DefaultDict{String, Int64}(0)\n",
    "    \n",
    "    for line in text\n",
    "        line_tokens = split(strip(lowercase(line)))\n",
    "        for token in line_tokens\n",
    "            stripped_token = strip(ispunct, token)\n",
    "            tokens[stripped_token] += 1\n",
    "        end\n",
    "    end\n",
    "\n",
    "    # Delete zero-width spaces from our count\n",
    "    delete!(tokens, \"\")\n",
    "\n",
    "    # Sort tokens by count\n",
    "    sorted_tokens = sort(collect(tokens), by = x -> x.second, rev = true)\n",
    "    \n",
    "    return sorted_tokens\n",
    "end\n",
    "\n",
    "# -------------------------\n",
    "# Profile and collect stats\n",
    "# -------------------------\n",
    "for infile in files\n",
    "    sorted_tokens = @time tokenize(infile)\n",
    "    println(infile)\n",
    "    println(\"Entries:\", length(sorted_tokens))\n",
    "    println(\"Top 20 tokens\")\n",
    "    for item in sorted_tokens[begin:20]\n",
    "        println(item)\n",
    "    end\n",
    "    println()\n",
    "end"
   ]
  }
 ],
 "metadata": {
  "kernelspec": {
   "display_name": "Julia 1.8.5",
   "language": "julia",
   "name": "julia-1.8"
  },
  "language_info": {
   "file_extension": ".jl",
   "mimetype": "application/julia",
   "name": "julia",
   "version": "1.8.5"
  }
 },
 "nbformat": 4,
 "nbformat_minor": 5
}
